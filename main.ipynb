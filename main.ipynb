{
 "cells": [
  {
   "cell_type": "markdown",
   "metadata": {},
   "source": [
    "# MANU 465 EEG Project\n",
    "## Exploring Brainwaves vs Creative and Analytical Tasks\n",
    "### By: Faith Tan, Emilie Ho, and Pan Tisapramotkul "
   ]
  },
  {
   "cell_type": "markdown",
   "metadata": {},
   "source": []
  }
 ],
 "metadata": {
  "language_info": {
   "name": "python"
  }
 },
 "nbformat": 4,
 "nbformat_minor": 2
}
